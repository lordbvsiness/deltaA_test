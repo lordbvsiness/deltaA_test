{
 "cells": [
  {
   "cell_type": "code",
   "execution_count": 6,
   "id": "f9f9c539-02c7-4f40-9cbe-9cd623574825",
   "metadata": {},
   "outputs": [
    {
     "data": {
      "application/vnd.jupyter.widget-view+json": {
       "model_id": "eaaf9b7077304231a48f0686e76bb4d9",
       "version_major": 2,
       "version_minor": 0
      },
      "text/plain": [
       "FloatSlider(value=0.5, description='Ai', max=1.0, step=0.01)"
      ]
     },
     "metadata": {},
     "output_type": "display_data"
    },
    {
     "data": {
      "application/vnd.jupyter.widget-view+json": {
       "model_id": "46895cafc03e441f98cf2229d6c6c669",
       "version_major": 2,
       "version_minor": 0
      },
      "text/plain": [
       "FloatSlider(value=0.5, description='Gi', max=1.0, step=0.01)"
      ]
     },
     "metadata": {},
     "output_type": "display_data"
    },
    {
     "data": {
      "application/vnd.jupyter.widget-view+json": {
       "model_id": "9338d73a6b4f4c61956568ccf2e01e35",
       "version_major": 2,
       "version_minor": 0
      },
      "text/plain": [
       "FloatSlider(value=0.05, description='∆C̄i', max=0.1, min=0.01, step=0.001)"
      ]
     },
     "metadata": {},
     "output_type": "display_data"
    },
    {
     "data": {
      "application/vnd.jupyter.widget-view+json": {
       "model_id": "6aa1d182f876486eae082c713c537b9c",
       "version_major": 2,
       "version_minor": 0
      },
      "text/plain": [
       "Output()"
      ]
     },
     "metadata": {},
     "output_type": "display_data"
    },
    {
     "data": {
      "application/vnd.jupyter.widget-view+json": {
       "model_id": "3dd4baccd16b449f90310795ef89ff3d",
       "version_major": 2,
       "version_minor": 0
      },
      "text/plain": [
       "interactive(children=(FloatSlider(value=0.5, description='ai', max=1.0, step=0.01), FloatSlider(value=0.5, des…"
      ]
     },
     "metadata": {},
     "output_type": "display_data"
    }
   ],
   "source": [
    "import numpy as np\n",
    "import matplotlib.pyplot as plt\n",
    "import ipywidgets as widgets\n",
    "from IPython.display import display, Markdown\n",
    "\n",
    "def compute_delta_A(ai, gi, delta_c_bar):\n",
    "    rhs = (ai - 0.5 * ai**2 * (1 - gi)**2) * np.log(1 + delta_c_bar)\n",
    "    delta_a = np.exp(rhs) - 1\n",
    "    return delta_a\n",
    "\n",
    "# Create sliders\n",
    "ai_slider = widgets.FloatSlider(value=0.5, min=0, max=1.0, step=0.01, description='Ai')\n",
    "gi_slider = widgets.FloatSlider(value=0.5, min=0, max=1.0, step=0.01, description='Gi')\n",
    "dc_slider = widgets.FloatSlider(value=0.05, min=0.01, max=0.10, step=0.001, description='∆C̄i')\n",
    "\n",
    "# Output box\n",
    "output = widgets.Output()\n",
    "\n",
    "def update_output(*args):\n",
    "    ai = ai_slider.value\n",
    "    gi = gi_slider.value\n",
    "    dc = dc_slider.value\n",
    "    delta_a = compute_delta_A(ai, gi, dc)\n",
    "    with output:\n",
    "        output.clear_output()\n",
    "        display(Markdown(f\"**∆A = {delta_a:.6f}**\"))\n",
    "\n",
    "# Connect slider events\n",
    "ai_slider.observe(update_output, 'value')\n",
    "gi_slider.observe(update_output, 'value')\n",
    "dc_slider.observe(update_output, 'value')\n",
    "\n",
    "# Display everything\n",
    "display(ai_slider, gi_slider, dc_slider, output)\n",
    "update_output()\n",
    "\n",
    "def plot_curve(ai=0.5, gi=0.5):\n",
    "    delta_c_range = np.linspace(0.001, 0.1, 200)\n",
    "    delta_a_vals = [compute_delta_A(ai, gi, dc) for dc in delta_c_range]\n",
    "\n",
    "    plt.figure(figsize=(8, 4))\n",
    "    plt.plot(delta_c_range, delta_a_vals, label=f'Ai={ai}, Gi={gi}')\n",
    "    plt.xlabel(\"∆C̄i\")\n",
    "    plt.ylabel(\"∆A\")\n",
    "    plt.title(\"∆A vs ∆C̄i\")\n",
    "    plt.grid(True)\n",
    "    plt.legend()\n",
    "    plt.ylim(0,0.1)\n",
    "    plt.xlim(0,0.1)\n",
    "    plt.show()\n",
    "\n",
    "widgets.interact(plot_curve, ai=(0, 1.0, 0.01), gi=(0, 1.0, 0.01));\n",
    "\n"
   ]
  },
  {
   "cell_type": "code",
   "execution_count": null,
   "id": "a2d2c5a2-89a5-4b1c-a9e2-aceb5e5fc9be",
   "metadata": {},
   "outputs": [],
   "source": []
  }
 ],
 "metadata": {
  "kernelspec": {
   "display_name": "Python 3 (ipykernel)",
   "language": "python",
   "name": "python3"
  },
  "language_info": {
   "codemirror_mode": {
    "name": "ipython",
    "version": 3
   },
   "file_extension": ".py",
   "mimetype": "text/x-python",
   "name": "python",
   "nbconvert_exporter": "python",
   "pygments_lexer": "ipython3",
   "version": "3.13.0"
  }
 },
 "nbformat": 4,
 "nbformat_minor": 5
}
